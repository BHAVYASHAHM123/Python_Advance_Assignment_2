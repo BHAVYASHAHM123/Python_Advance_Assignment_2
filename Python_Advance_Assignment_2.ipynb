{
  "nbformat": 4,
  "nbformat_minor": 0,
  "metadata": {
    "colab": {
      "name": "Python_Advance_Assignment_2.ipynb",
      "provenance": []
    },
    "kernelspec": {
      "name": "python3",
      "display_name": "Python 3"
    },
    "language_info": {
      "name": "python"
    }
  },
  "cells": [
    {
      "cell_type": "markdown",
      "source": [
        "Q1). What is the relationship between classes and modules?\n",
        "\n",
        "Ans) Modules are collections of methods and constants. They cannot generate instances. Classes may generate instances."
      ],
      "metadata": {
        "id": "UU9jcGNWx4U0"
      }
    },
    {
      "cell_type": "markdown",
      "source": [
        "Q2. How do you make instances and classes?\n",
        "\n",
        "Ans) o create instances of a class, you call the class using class name and pass in whatever arguments its __init__ method accepts"
      ],
      "metadata": {
        "id": "i6ziEeG7yJQH"
      }
    },
    {
      "cell_type": "markdown",
      "source": [
        "Q3) Where and how should be class attributes created?\n",
        "\n",
        "Ans) Where and how should be class attributes created Python?\n",
        "Class attributes belong to the class itself they will be shared by all the instances. Such attributes are defined in the class body parts usually at the top"
      ],
      "metadata": {
        "id": "I7dEzs14yJMq"
      }
    },
    {
      "cell_type": "markdown",
      "source": [
        "Q4). Where and how are instance attributes created?\n",
        "\n",
        "Ans) In the constructor"
      ],
      "metadata": {
        "id": "nAwjOmMZyJJm"
      }
    },
    {
      "cell_type": "markdown",
      "source": [
        "Q5). What does the term 'self' in a Python class mean?\n",
        "\n",
        "Ans) a reference to the current instance of the class, and is used to access variables that belongs to the class."
      ],
      "metadata": {
        "id": "E8c1zg9P4OIa"
      }
    },
    {
      "cell_type": "markdown",
      "source": [
        "Q6). How does a Python class handle operator overloading?\n",
        "\n",
        "Ans) Python operators work for built-in classes"
      ],
      "metadata": {
        "id": "irTAe_sV4NV5"
      }
    },
    {
      "cell_type": "markdown",
      "source": [
        "Q7). When do you consider allowing operator overloading of your classes?\n",
        "\n",
        "Ans) at least one of the operands must be a user-defined object"
      ],
      "metadata": {
        "id": "QtJDqVtg4NIm"
      }
    },
    {
      "cell_type": "markdown",
      "source": [
        "Q8). What is the most popular form of operator overloading?\n",
        "\n",
        "Ans) + operator"
      ],
      "metadata": {
        "id": "9mm-zvY86s_y"
      }
    },
    {
      "cell_type": "markdown",
      "source": [
        "Q9). What are the two most important concepts to grasp in order to comprehend Python OOP code?\n",
        "\n",
        "Ans) inheritance and polymorphism."
      ],
      "metadata": {
        "id": "uhwBGL0J6smC"
      }
    },
    {
      "cell_type": "code",
      "execution_count": null,
      "metadata": {
        "id": "IPK4r_4pxvOh"
      },
      "outputs": [],
      "source": [
        ""
      ]
    }
  ]
}